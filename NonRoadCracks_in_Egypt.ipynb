{
 "cells": [
  {
   "cell_type": "code",
   "execution_count": 1,
   "id": "df7d3020",
   "metadata": {},
   "outputs": [],
   "source": [
    "from tensorflow.keras.models import load_model"
   ]
  },
  {
   "cell_type": "code",
   "execution_count": 2,
   "id": "c39fd0b1",
   "metadata": {},
   "outputs": [],
   "source": [
    "model = load_model('D:/FCI/graduation project/smart city/Machine Learning/Road_crack_Detection_Model_2000.h5')"
   ]
  },
  {
   "cell_type": "code",
   "execution_count": 3,
   "id": "a3ea94ae",
   "metadata": {},
   "outputs": [],
   "source": [
    "import glob"
   ]
  },
  {
   "cell_type": "code",
   "execution_count": 4,
   "id": "ac25b772",
   "metadata": {},
   "outputs": [],
   "source": [
    "lst_noncrack_img = glob.glob('D:/FCI/graduation project/smart city/Machine Learning/road crack dataset/non crack images/*')"
   ]
  },
  {
   "cell_type": "code",
   "execution_count": 5,
   "id": "77618c1b",
   "metadata": {},
   "outputs": [
    {
     "name": "stdout",
     "output_type": "stream",
     "text": [
      "Number of images noncracks : 7\n"
     ]
    }
   ],
   "source": [
    "print('Number of images noncracks : {}'.format(len(lst_noncrack_img)))"
   ]
  },
  {
   "cell_type": "code",
   "execution_count": 6,
   "id": "720d14ef",
   "metadata": {},
   "outputs": [
    {
     "data": {
      "text/plain": [
       "['D:/FCI/graduation project/smart city/Machine Learning/road crack dataset/non crack images\\\\1.png',\n",
       " 'D:/FCI/graduation project/smart city/Machine Learning/road crack dataset/non crack images\\\\2.png',\n",
       " 'D:/FCI/graduation project/smart city/Machine Learning/road crack dataset/non crack images\\\\3.png',\n",
       " 'D:/FCI/graduation project/smart city/Machine Learning/road crack dataset/non crack images\\\\4.png',\n",
       " 'D:/FCI/graduation project/smart city/Machine Learning/road crack dataset/non crack images\\\\non fire image 1.png',\n",
       " 'D:/FCI/graduation project/smart city/Machine Learning/road crack dataset/non crack images\\\\non_crack 1.png',\n",
       " 'D:/FCI/graduation project/smart city/Machine Learning/road crack dataset/non crack images\\\\non_crack 2.png']"
      ]
     },
     "execution_count": 6,
     "metadata": {},
     "output_type": "execute_result"
    }
   ],
   "source": [
    "lst_noncrack_img"
   ]
  },
  {
   "cell_type": "code",
   "execution_count": 7,
   "id": "40f80fda",
   "metadata": {},
   "outputs": [],
   "source": [
    "import random"
   ]
  },
  {
   "cell_type": "code",
   "execution_count": 8,
   "id": "2f457f92",
   "metadata": {},
   "outputs": [],
   "source": [
    "lst_noncrack = []\n",
    "for x in lst_noncrack_img:\n",
    "    lst_noncrack.append([x,0])\n",
    "\n",
    "random.shuffle(lst_noncrack)"
   ]
  },
  {
   "cell_type": "code",
   "execution_count": 9,
   "id": "ea276d33",
   "metadata": {},
   "outputs": [],
   "source": [
    "import pandas as pd"
   ]
  },
  {
   "cell_type": "code",
   "execution_count": 10,
   "id": "674784fd",
   "metadata": {},
   "outputs": [
    {
     "data": {
      "text/html": [
       "<div>\n",
       "<style scoped>\n",
       "    .dataframe tbody tr th:only-of-type {\n",
       "        vertical-align: middle;\n",
       "    }\n",
       "\n",
       "    .dataframe tbody tr th {\n",
       "        vertical-align: top;\n",
       "    }\n",
       "\n",
       "    .dataframe thead th {\n",
       "        text-align: right;\n",
       "    }\n",
       "</style>\n",
       "<table border=\"1\" class=\"dataframe\">\n",
       "  <thead>\n",
       "    <tr style=\"text-align: right;\">\n",
       "      <th></th>\n",
       "      <th>files</th>\n",
       "      <th>target</th>\n",
       "    </tr>\n",
       "  </thead>\n",
       "  <tbody>\n",
       "    <tr>\n",
       "      <th>0</th>\n",
       "      <td>D:/FCI/graduation project/smart city/Machine L...</td>\n",
       "      <td>0</td>\n",
       "    </tr>\n",
       "    <tr>\n",
       "      <th>1</th>\n",
       "      <td>D:/FCI/graduation project/smart city/Machine L...</td>\n",
       "      <td>0</td>\n",
       "    </tr>\n",
       "    <tr>\n",
       "      <th>2</th>\n",
       "      <td>D:/FCI/graduation project/smart city/Machine L...</td>\n",
       "      <td>0</td>\n",
       "    </tr>\n",
       "    <tr>\n",
       "      <th>3</th>\n",
       "      <td>D:/FCI/graduation project/smart city/Machine L...</td>\n",
       "      <td>0</td>\n",
       "    </tr>\n",
       "    <tr>\n",
       "      <th>4</th>\n",
       "      <td>D:/FCI/graduation project/smart city/Machine L...</td>\n",
       "      <td>0</td>\n",
       "    </tr>\n",
       "    <tr>\n",
       "      <th>5</th>\n",
       "      <td>D:/FCI/graduation project/smart city/Machine L...</td>\n",
       "      <td>0</td>\n",
       "    </tr>\n",
       "    <tr>\n",
       "      <th>6</th>\n",
       "      <td>D:/FCI/graduation project/smart city/Machine L...</td>\n",
       "      <td>0</td>\n",
       "    </tr>\n",
       "  </tbody>\n",
       "</table>\n",
       "</div>"
      ],
      "text/plain": [
       "                                               files  target\n",
       "0  D:/FCI/graduation project/smart city/Machine L...       0\n",
       "1  D:/FCI/graduation project/smart city/Machine L...       0\n",
       "2  D:/FCI/graduation project/smart city/Machine L...       0\n",
       "3  D:/FCI/graduation project/smart city/Machine L...       0\n",
       "4  D:/FCI/graduation project/smart city/Machine L...       0\n",
       "5  D:/FCI/graduation project/smart city/Machine L...       0\n",
       "6  D:/FCI/graduation project/smart city/Machine L...       0"
      ]
     },
     "execution_count": 10,
     "metadata": {},
     "output_type": "execute_result"
    }
   ],
   "source": [
    "df = pd.DataFrame(lst_noncrack,columns = ['files','target'])\n",
    "df"
   ]
  },
  {
   "cell_type": "code",
   "execution_count": 11,
   "id": "79b410ae",
   "metadata": {},
   "outputs": [],
   "source": [
    "import cv2"
   ]
  },
  {
   "cell_type": "code",
   "execution_count": 12,
   "id": "612dbc1c",
   "metadata": {},
   "outputs": [],
   "source": [
    "def preprocessing_image(filepath):\n",
    "    img = cv2.imread(filepath) #read\n",
    "    if img is None:\n",
    "        print(\"Error: Could not load image\")\n",
    "    img = cv2.cvtColor(img,cv2.COLOR_RGB2BGR) #convert\n",
    "    img = cv2.resize(img,(227,227))  # resize\n",
    "    img = img / 255 #scale\n",
    "    return img"
   ]
  },
  {
   "cell_type": "code",
   "execution_count": 13,
   "id": "1795fe18",
   "metadata": {},
   "outputs": [],
   "source": [
    "import numpy as np"
   ]
  },
  {
   "cell_type": "code",
   "execution_count": 14,
   "id": "6d0e1bbe",
   "metadata": {},
   "outputs": [],
   "source": [
    "def create_format_dataset(dataframe):\n",
    "    X = []\n",
    "    y = []\n",
    "    i=0\n",
    "    for f,t in dataframe.values:\n",
    "        i+=1\n",
    "        print(i)\n",
    "        X.append(preprocessing_image(f))\n",
    "        y.append(t)\n",
    "\n",
    "    return np.array(X),np.array(y)"
   ]
  },
  {
   "cell_type": "code",
   "execution_count": 15,
   "id": "f540049f",
   "metadata": {},
   "outputs": [
    {
     "name": "stdout",
     "output_type": "stream",
     "text": [
      "1\n",
      "2\n",
      "3\n",
      "4\n",
      "5\n",
      "6\n",
      "7\n"
     ]
    }
   ],
   "source": [
    "X, y = create_format_dataset(df)"
   ]
  },
  {
   "cell_type": "code",
   "execution_count": 16,
   "id": "cce94754",
   "metadata": {},
   "outputs": [
    {
     "data": {
      "text/plain": [
       "array([0, 0, 0, 0, 0, 0, 0])"
      ]
     },
     "execution_count": 16,
     "metadata": {},
     "output_type": "execute_result"
    }
   ],
   "source": [
    "y"
   ]
  },
  {
   "cell_type": "code",
   "execution_count": 17,
   "id": "76a88cd7",
   "metadata": {},
   "outputs": [
    {
     "name": "stdout",
     "output_type": "stream",
     "text": [
      "(7, 227, 227, 3)\n",
      "(7,)\n"
     ]
    }
   ],
   "source": [
    "print(X.shape)\n",
    "print(y.shape)"
   ]
  },
  {
   "cell_type": "code",
   "execution_count": 18,
   "id": "880014f7",
   "metadata": {},
   "outputs": [
    {
     "name": "stdout",
     "output_type": "stream",
     "text": [
      "1/1 [==============================] - 0s 332ms/step\n"
     ]
    }
   ],
   "source": [
    "y_pred = model.predict(X)"
   ]
  },
  {
   "cell_type": "code",
   "execution_count": 19,
   "id": "b21ccae3",
   "metadata": {},
   "outputs": [],
   "source": [
    "y_pred = y_pred > 0.5"
   ]
  },
  {
   "cell_type": "code",
   "execution_count": 20,
   "id": "1c9e7c35",
   "metadata": {},
   "outputs": [
    {
     "data": {
      "text/plain": [
       "array([[False],\n",
       "       [False],\n",
       "       [False],\n",
       "       [False],\n",
       "       [False],\n",
       "       [ True],\n",
       "       [False]])"
      ]
     },
     "execution_count": 20,
     "metadata": {},
     "output_type": "execute_result"
    }
   ],
   "source": [
    "y_pred"
   ]
  },
  {
   "cell_type": "code",
   "execution_count": 21,
   "id": "9b969f74",
   "metadata": {},
   "outputs": [],
   "source": [
    "import matplotlib.pyplot as plt\n",
    "import seaborn as sns\n",
    "from sklearn.metrics import confusion_matrix,classification_report"
   ]
  },
  {
   "cell_type": "code",
   "execution_count": 22,
   "id": "7a40c805",
   "metadata": {},
   "outputs": [
    {
     "data": {
      "image/png": "[encoded data removed]",
      "text/plain": [
       "<Figure size 1440x720 with 2 Axes>"
      ]
     },
     "metadata": {
      "needs_background": "light"
     },
     "output_type": "display_data"
    }
   ],
   "source": [
    "plt.figure(figsize = (20,10))\n",
    "\n",
    "sns.heatmap(confusion_matrix(y,y_pred),annot = True)\n",
    "plt.title(\"Confusion Matrix\")\n",
    "plt.xlabel(\"Predicted\")\n",
    "plt.ylabel(\"True\")\n",
    "\n",
    "plt.show()"
   ]
  },
  {
   "cell_type": "code",
   "execution_count": 23,
   "id": "bc26dbb2",
   "metadata": {},
   "outputs": [
    {
     "name": "stdout",
     "output_type": "stream",
     "text": [
      "              precision    recall  f1-score   support\n",
      "\n",
      "           0       1.00      0.86      0.92         7\n",
      "           1       0.00      0.00      0.00         0\n",
      "\n",
      "    accuracy                           0.86         7\n",
      "   macro avg       0.50      0.43      0.46         7\n",
      "weighted avg       1.00      0.86      0.92         7\n",
      "\n"
     ]
    },
    {
     "name": "stderr",
     "output_type": "stream",
     "text": [
      "D:\\python 3.10.6\\lib\\site-packages\\sklearn\\metrics\\_classification.py:1334: UndefinedMetricWarning: Recall and F-score are ill-defined and being set to 0.0 in labels with no true samples. Use `zero_division` parameter to control this behavior.\n",
      "  _warn_prf(average, modifier, msg_start, len(result))\n",
      "D:\\python 3.10.6\\lib\\site-packages\\sklearn\\metrics\\_classification.py:1334: UndefinedMetricWarning: Recall and F-score are ill-defined and being set to 0.0 in labels with no true samples. Use `zero_division` parameter to control this behavior.\n",
      "  _warn_prf(average, modifier, msg_start, len(result))\n",
      "D:\\python 3.10.6\\lib\\site-packages\\sklearn\\metrics\\_classification.py:1334: UndefinedMetricWarning: Recall and F-score are ill-defined and being set to 0.0 in labels with no true samples. Use `zero_division` parameter to control this behavior.\n",
      "  _warn_prf(average, modifier, msg_start, len(result))\n"
     ]
    }
   ],
   "source": [
    "print(classification_report(y,y_pred))"
   ]
  },
  {
   "cell_type": "code",
   "execution_count": null,
   "id": "fcc45acf",
   "metadata": {},
   "outputs": [],
   "source": []
  }
 ],
 "metadata": {
  "kernelspec": {
   "display_name": "Python 3 (ipykernel)",
   "language": "python",
   "name": "python3"
  },
  "language_info": {
   "codemirror_mode": {
    "name": "ipython",
    "version": 3
   },
   "file_extension": ".py",
   "mimetype": "text/x-python",
   "name": "python",
   "nbconvert_exporter": "python",
   "pygments_lexer": "ipython3",
   "version": "3.10.6"
  }
 },
 "nbformat": 4,
 "nbformat_minor": 5
}

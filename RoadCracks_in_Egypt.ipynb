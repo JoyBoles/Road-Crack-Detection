{
 "cells": [
  {
   "cell_type": "code",
   "execution_count": 1,
   "id": "df7d3020",
   "metadata": {},
   "outputs": [],
   "source": [
    "from tensorflow.keras.models import load_model"
   ]
  },
  {
   "cell_type": "code",
   "execution_count": 2,
   "id": "c39fd0b1",
   "metadata": {},
   "outputs": [],
   "source": [
    "model = load_model('D:/FCI/graduation project/smart city/Machine Learning/Road_Crack_Detection_Model_2000.h5')"
   ]
  },
  {
   "cell_type": "code",
   "execution_count": 3,
   "id": "a3ea94ae",
   "metadata": {},
   "outputs": [],
   "source": [
    "import glob"
   ]
  },
  {
   "cell_type": "code",
   "execution_count": 5,
   "id": "ac25b772",
   "metadata": {},
   "outputs": [],
   "source": [
    "lst_crack_img = glob.glob('D:/FCI/graduation project/smart city/Machine Learning/road crack dataset/crack images/*')"
   ]
  },
  {
   "cell_type": "code",
   "execution_count": 6,
   "id": "77618c1b",
   "metadata": {},
   "outputs": [
    {
     "name": "stdout",
     "output_type": "stream",
     "text": [
      "Number of images with cracks : 6\n"
     ]
    }
   ],
   "source": [
    "print('Number of images with cracks : {}'.format(len(lst_crack_img)))"
   ]
  },
  {
   "cell_type": "code",
   "execution_count": 7,
   "id": "720d14ef",
   "metadata": {},
   "outputs": [
    {
     "data": {
      "text/plain": [
       "['D:/FCI/graduation project/smart city/Machine Learning/road crack dataset/crack images\\\\140620_inv_infrastructure_1.jpg',\n",
       " 'D:/FCI/graduation project/smart city/Machine Learning/road crack dataset/crack images\\\\crack 1.png',\n",
       " 'D:/FCI/graduation project/smart city/Machine Learning/road crack dataset/crack images\\\\crack 2.png',\n",
       " 'D:/FCI/graduation project/smart city/Machine Learning/road crack dataset/crack images\\\\crack 3.png',\n",
       " 'D:/FCI/graduation project/smart city/Machine Learning/road crack dataset/crack images\\\\crack 4.png',\n",
       " 'D:/FCI/graduation project/smart city/Machine Learning/road crack dataset/crack images\\\\P1000124.JPG']"
      ]
     },
     "execution_count": 7,
     "metadata": {},
     "output_type": "execute_result"
    }
   ],
   "source": [
    "lst_crack_img"
   ]
  },
  {
   "cell_type": "code",
   "execution_count": 8,
   "id": "40f80fda",
   "metadata": {},
   "outputs": [],
   "source": [
    "import random"
   ]
  },
  {
   "cell_type": "code",
   "execution_count": 10,
   "id": "2f457f92",
   "metadata": {},
   "outputs": [],
   "source": [
    "lst_crack = []\n",
    "for x in lst_crack_img:\n",
    "    lst_crack.append([x,1])\n",
    "\n",
    "random.shuffle(lst_crack)"
   ]
  },
  {
   "cell_type": "code",
   "execution_count": 11,
   "id": "ea276d33",
   "metadata": {},
   "outputs": [],
   "source": [
    "import pandas as pd"
   ]
  },
  {
   "cell_type": "code",
   "execution_count": 12,
   "id": "674784fd",
   "metadata": {},
   "outputs": [
    {
     "data": {
      "text/html": [
       "<div>\n",
       "<style scoped>\n",
       "    .dataframe tbody tr th:only-of-type {\n",
       "        vertical-align: middle;\n",
       "    }\n",
       "\n",
       "    .dataframe tbody tr th {\n",
       "        vertical-align: top;\n",
       "    }\n",
       "\n",
       "    .dataframe thead th {\n",
       "        text-align: right;\n",
       "    }\n",
       "</style>\n",
       "<table border=\"1\" class=\"dataframe\">\n",
       "  <thead>\n",
       "    <tr style=\"text-align: right;\">\n",
       "      <th></th>\n",
       "      <th>files</th>\n",
       "      <th>target</th>\n",
       "    </tr>\n",
       "  </thead>\n",
       "  <tbody>\n",
       "    <tr>\n",
       "      <th>0</th>\n",
       "      <td>D:/FCI/graduation project/smart city/Machine L...</td>\n",
       "      <td>1</td>\n",
       "    </tr>\n",
       "    <tr>\n",
       "      <th>1</th>\n",
       "      <td>D:/FCI/graduation project/smart city/Machine L...</td>\n",
       "      <td>1</td>\n",
       "    </tr>\n",
       "    <tr>\n",
       "      <th>2</th>\n",
       "      <td>D:/FCI/graduation project/smart city/Machine L...</td>\n",
       "      <td>1</td>\n",
       "    </tr>\n",
       "    <tr>\n",
       "      <th>3</th>\n",
       "      <td>D:/FCI/graduation project/smart city/Machine L...</td>\n",
       "      <td>1</td>\n",
       "    </tr>\n",
       "    <tr>\n",
       "      <th>4</th>\n",
       "      <td>D:/FCI/graduation project/smart city/Machine L...</td>\n",
       "      <td>1</td>\n",
       "    </tr>\n",
       "    <tr>\n",
       "      <th>5</th>\n",
       "      <td>D:/FCI/graduation project/smart city/Machine L...</td>\n",
       "      <td>1</td>\n",
       "    </tr>\n",
       "  </tbody>\n",
       "</table>\n",
       "</div>"
      ],
      "text/plain": [
       "                                               files  target\n",
       "0  D:/FCI/graduation project/smart city/Machine L...       1\n",
       "1  D:/FCI/graduation project/smart city/Machine L...       1\n",
       "2  D:/FCI/graduation project/smart city/Machine L...       1\n",
       "3  D:/FCI/graduation project/smart city/Machine L...       1\n",
       "4  D:/FCI/graduation project/smart city/Machine L...       1\n",
       "5  D:/FCI/graduation project/smart city/Machine L...       1"
      ]
     },
     "execution_count": 12,
     "metadata": {},
     "output_type": "execute_result"
    }
   ],
   "source": [
    "df = pd.DataFrame(lst_crack,columns = ['files','target'])\n",
    "df"
   ]
  },
  {
   "cell_type": "code",
   "execution_count": 13,
   "id": "79b410ae",
   "metadata": {},
   "outputs": [],
   "source": [
    "import cv2"
   ]
  },
  {
   "cell_type": "code",
   "execution_count": 14,
   "id": "612dbc1c",
   "metadata": {},
   "outputs": [],
   "source": [
    "def preprocessing_image(filepath):\n",
    "    img = cv2.imread(filepath) #read\n",
    "    if img is None:\n",
    "        print(\"Error: Could not load image\")\n",
    "    img = cv2.cvtColor(img,cv2.COLOR_RGB2BGR) #convert\n",
    "    img = cv2.resize(img,(227,227))  # resize\n",
    "    img = img / 255 #scale\n",
    "    return img"
   ]
  },
  {
   "cell_type": "code",
   "execution_count": 15,
   "id": "1795fe18",
   "metadata": {},
   "outputs": [],
   "source": [
    "import numpy as np"
   ]
  },
  {
   "cell_type": "code",
   "execution_count": 16,
   "id": "6d0e1bbe",
   "metadata": {},
   "outputs": [],
   "source": [
    "def create_format_dataset(dataframe):\n",
    "    X = []\n",
    "    y = []\n",
    "    i=0\n",
    "    for f,t in dataframe.values:\n",
    "        i+=1\n",
    "        print(i)\n",
    "        X.append(preprocessing_image(f))\n",
    "        y.append(t)\n",
    "\n",
    "    return np.array(X),np.array(y)"
   ]
  },
  {
   "cell_type": "code",
   "execution_count": 17,
   "id": "f540049f",
   "metadata": {},
   "outputs": [
    {
     "name": "stdout",
     "output_type": "stream",
     "text": [
      "1\n",
      "2\n",
      "3\n",
      "4\n",
      "5\n",
      "6\n"
     ]
    }
   ],
   "source": [
    "X, y = create_format_dataset(df)"
   ]
  },
  {
   "cell_type": "code",
   "execution_count": 18,
   "id": "cce94754",
   "metadata": {},
   "outputs": [
    {
     "data": {
      "text/plain": [
       "array([1, 1, 1, 1, 1, 1])"
      ]
     },
     "execution_count": 18,
     "metadata": {},
     "output_type": "execute_result"
    }
   ],
   "source": [
    "y"
   ]
  },
  {
   "cell_type": "code",
   "execution_count": 19,
   "id": "76a88cd7",
   "metadata": {},
   "outputs": [
    {
     "name": "stdout",
     "output_type": "stream",
     "text": [
      "(6, 227, 227, 3)\n",
      "(6,)\n"
     ]
    }
   ],
   "source": [
    "print(X.shape)\n",
    "print(y.shape)"
   ]
  },
  {
   "cell_type": "code",
   "execution_count": 20,
   "id": "880014f7",
   "metadata": {},
   "outputs": [
    {
     "name": "stdout",
     "output_type": "stream",
     "text": [
      "1/1 [==============================] - 0s 261ms/step\n"
     ]
    }
   ],
   "source": [
    "y_pred = model.predict(X)"
   ]
  },
  {
   "cell_type": "code",
   "execution_count": 21,
   "id": "b21ccae3",
   "metadata": {},
   "outputs": [],
   "source": [
    "y_pred = y_pred > 0.5"
   ]
  },
  {
   "cell_type": "code",
   "execution_count": 22,
   "id": "1c9e7c35",
   "metadata": {},
   "outputs": [
    {
     "data": {
      "text/plain": [
       "array([[False],\n",
       "       [ True],\n",
       "       [ True],\n",
       "       [ True],\n",
       "       [ True],\n",
       "       [False]])"
      ]
     },
     "execution_count": 22,
     "metadata": {},
     "output_type": "execute_result"
    }
   ],
   "source": [
    "y_pred"
   ]
  },
  {
   "cell_type": "code",
   "execution_count": 23,
   "id": "9b969f74",
   "metadata": {},
   "outputs": [],
   "source": [
    "import matplotlib.pyplot as plt\n",
    "import seaborn as sns\n",
    "from sklearn.metrics import confusion_matrix,classification_report"
   ]
  },
  {
   "cell_type": "code",
   "execution_count": 24,
   "id": "7a40c805",
   "metadata": {},
   "outputs": [
    {
     "data": {
      "image/png": "[encoded data removed]",
      "text/plain": [
       "<Figure size 1440x720 with 2 Axes>"
      ]
     },
     "metadata": {
      "needs_background": "light"
     },
     "output_type": "display_data"
    }
   ],
   "source": [
    "plt.figure(figsize = (20,10))\n",
    "\n",
    "sns.heatmap(confusion_matrix(y,y_pred),annot = True)\n",
    "plt.title(\"Confusion Matrix\")\n",
    "plt.xlabel(\"Predicted\")\n",
    "plt.ylabel(\"True\")\n",
    "\n",
    "plt.show()"
   ]
  },
  {
   "cell_type": "code",
   "execution_count": 25,
   "id": "bc26dbb2",
   "metadata": {},
   "outputs": [
    {
     "name": "stdout",
     "output_type": "stream",
     "text": [
      "              precision    recall  f1-score   support\n",
      "\n",
      "           0       0.00      0.00      0.00         0\n",
      "           1       1.00      0.67      0.80         6\n",
      "\n",
      "    accuracy                           0.67         6\n",
      "   macro avg       0.50      0.33      0.40         6\n",
      "weighted avg       1.00      0.67      0.80         6\n",
      "\n"
     ]
    },
    {
     "name": "stderr",
     "output_type": "stream",
     "text": [
      "D:\\python 3.10.6\\lib\\site-packages\\sklearn\\metrics\\_classification.py:1334: UndefinedMetricWarning: Recall and F-score are ill-defined and being set to 0.0 in labels with no true samples. Use `zero_division` parameter to control this behavior.\n",
      "  _warn_prf(average, modifier, msg_start, len(result))\n",
      "D:\\python 3.10.6\\lib\\site-packages\\sklearn\\metrics\\_classification.py:1334: UndefinedMetricWarning: Recall and F-score are ill-defined and being set to 0.0 in labels with no true samples. Use `zero_division` parameter to control this behavior.\n",
      "  _warn_prf(average, modifier, msg_start, len(result))\n",
      "D:\\python 3.10.6\\lib\\site-packages\\sklearn\\metrics\\_classification.py:1334: UndefinedMetricWarning: Recall and F-score are ill-defined and being set to 0.0 in labels with no true samples. Use `zero_division` parameter to control this behavior.\n",
      "  _warn_prf(average, modifier, msg_start, len(result))\n"
     ]
    }
   ],
   "source": [
    "print(classification_report(y,y_pred))"
   ]
  },
  {
   "cell_type": "code",
   "execution_count": null,
   "id": "fcc45acf",
   "metadata": {},
   "outputs": [],
   "source": []
  }
 ],
 "metadata": {
  "kernelspec": {
   "display_name": "Python 3 (ipykernel)",
   "language": "python",
   "name": "python3"
  },
  "language_info": {
   "codemirror_mode": {
    "name": "ipython",
    "version": 3
   },
   "file_extension": ".py",
   "mimetype": "text/x-python",
   "name": "python",
   "nbconvert_exporter": "python",
   "pygments_lexer": "ipython3",
   "version": "3.10.6"
  }
 },
 "nbformat": 4,
 "nbformat_minor": 5
}
